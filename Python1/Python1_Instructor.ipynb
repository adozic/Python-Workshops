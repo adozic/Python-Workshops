{
 "cells": [
  {
   "cell_type": "markdown",
   "metadata": {},
   "source": [
    "# Python 1 : Data Cleaning and EDA"
   ]
  },
  {
   "cell_type": "markdown",
   "metadata": {},
   "source": [
    "Welcome to Python 1. In this workshop we will cover data manipulation, feature engineering and exploratory analysis. These are very important steps in the data science workflow. <br><br>"
   ]
  },
  {
   "cell_type": "markdown",
   "metadata": {},
   "source": [
    "## Importing our Data\n",
    "We will start by importing our dataset.<br><br>\n",
    "Data : **The McDonalds Menu**<br>\n",
    "The data was taken from : https://www.kaggle.com/mcdonalds/nutrition-facts"
   ]
  },
  {
   "cell_type": "code",
   "execution_count": 75,
   "metadata": {},
   "outputs": [],
   "source": [
    "import pandas as pd"
   ]
  },
  {
   "cell_type": "code",
   "execution_count": 76,
   "metadata": {},
   "outputs": [],
   "source": [
    "data = pd.read_csv('menu.csv')"
   ]
  },
  {
   "cell_type": "code",
   "execution_count": 77,
   "metadata": {
    "scrolled": true
   },
   "outputs": [
    {
     "data": {
      "text/html": [
       "<div>\n",
       "<style scoped>\n",
       "    .dataframe tbody tr th:only-of-type {\n",
       "        vertical-align: middle;\n",
       "    }\n",
       "\n",
       "    .dataframe tbody tr th {\n",
       "        vertical-align: top;\n",
       "    }\n",
       "\n",
       "    .dataframe thead th {\n",
       "        text-align: right;\n",
       "    }\n",
       "</style>\n",
       "<table border=\"1\" class=\"dataframe\">\n",
       "  <thead>\n",
       "    <tr style=\"text-align: right;\">\n",
       "      <th></th>\n",
       "      <th>Category</th>\n",
       "      <th>Item</th>\n",
       "      <th>Serving Size</th>\n",
       "      <th>Calories</th>\n",
       "      <th>Calories from Fat</th>\n",
       "      <th>Total Fat</th>\n",
       "      <th>Total Fat (% Daily Value)</th>\n",
       "      <th>Saturated Fat</th>\n",
       "      <th>Saturated Fat (% Daily Value)</th>\n",
       "      <th>Trans Fat</th>\n",
       "      <th>...</th>\n",
       "      <th>Carbohydrates</th>\n",
       "      <th>Carbohydrates (% Daily Value)</th>\n",
       "      <th>Dietary Fiber</th>\n",
       "      <th>Dietary Fiber (% Daily Value)</th>\n",
       "      <th>Sugars</th>\n",
       "      <th>Protein</th>\n",
       "      <th>Vitamin A (% Daily Value)</th>\n",
       "      <th>Vitamin C (% Daily Value)</th>\n",
       "      <th>Calcium (% Daily Value)</th>\n",
       "      <th>Iron (% Daily Value)</th>\n",
       "    </tr>\n",
       "  </thead>\n",
       "  <tbody>\n",
       "    <tr>\n",
       "      <th>0</th>\n",
       "      <td>Breakfast</td>\n",
       "      <td>Egg McMuffin</td>\n",
       "      <td>4.8 oz (136 g)</td>\n",
       "      <td>300</td>\n",
       "      <td>120</td>\n",
       "      <td>13.0</td>\n",
       "      <td>20</td>\n",
       "      <td>5.0</td>\n",
       "      <td>25</td>\n",
       "      <td>0.0</td>\n",
       "      <td>...</td>\n",
       "      <td>31</td>\n",
       "      <td>10</td>\n",
       "      <td>4</td>\n",
       "      <td>17</td>\n",
       "      <td>3</td>\n",
       "      <td>17</td>\n",
       "      <td>10</td>\n",
       "      <td>0</td>\n",
       "      <td>25</td>\n",
       "      <td>15</td>\n",
       "    </tr>\n",
       "    <tr>\n",
       "      <th>1</th>\n",
       "      <td>Breakfast</td>\n",
       "      <td>Egg White Delight</td>\n",
       "      <td>4.8 oz (135 g)</td>\n",
       "      <td>250</td>\n",
       "      <td>70</td>\n",
       "      <td>8.0</td>\n",
       "      <td>12</td>\n",
       "      <td>3.0</td>\n",
       "      <td>15</td>\n",
       "      <td>0.0</td>\n",
       "      <td>...</td>\n",
       "      <td>30</td>\n",
       "      <td>10</td>\n",
       "      <td>4</td>\n",
       "      <td>17</td>\n",
       "      <td>3</td>\n",
       "      <td>18</td>\n",
       "      <td>6</td>\n",
       "      <td>0</td>\n",
       "      <td>25</td>\n",
       "      <td>8</td>\n",
       "    </tr>\n",
       "    <tr>\n",
       "      <th>2</th>\n",
       "      <td>Breakfast</td>\n",
       "      <td>Sausage McMuffin</td>\n",
       "      <td>3.9 oz (111 g)</td>\n",
       "      <td>370</td>\n",
       "      <td>200</td>\n",
       "      <td>23.0</td>\n",
       "      <td>35</td>\n",
       "      <td>8.0</td>\n",
       "      <td>42</td>\n",
       "      <td>0.0</td>\n",
       "      <td>...</td>\n",
       "      <td>29</td>\n",
       "      <td>10</td>\n",
       "      <td>4</td>\n",
       "      <td>17</td>\n",
       "      <td>2</td>\n",
       "      <td>14</td>\n",
       "      <td>8</td>\n",
       "      <td>0</td>\n",
       "      <td>25</td>\n",
       "      <td>10</td>\n",
       "    </tr>\n",
       "  </tbody>\n",
       "</table>\n",
       "<p>3 rows × 24 columns</p>\n",
       "</div>"
      ],
      "text/plain": [
       "    Category               Item    Serving Size  Calories  Calories from Fat  \\\n",
       "0  Breakfast       Egg McMuffin  4.8 oz (136 g)       300                120   \n",
       "1  Breakfast  Egg White Delight  4.8 oz (135 g)       250                 70   \n",
       "2  Breakfast   Sausage McMuffin  3.9 oz (111 g)       370                200   \n",
       "\n",
       "   Total Fat  Total Fat (% Daily Value)  Saturated Fat  \\\n",
       "0       13.0                         20            5.0   \n",
       "1        8.0                         12            3.0   \n",
       "2       23.0                         35            8.0   \n",
       "\n",
       "   Saturated Fat (% Daily Value)  Trans Fat          ...           \\\n",
       "0                             25        0.0          ...            \n",
       "1                             15        0.0          ...            \n",
       "2                             42        0.0          ...            \n",
       "\n",
       "   Carbohydrates  Carbohydrates (% Daily Value)  Dietary Fiber  \\\n",
       "0             31                             10              4   \n",
       "1             30                             10              4   \n",
       "2             29                             10              4   \n",
       "\n",
       "   Dietary Fiber (% Daily Value)  Sugars  Protein  Vitamin A (% Daily Value)  \\\n",
       "0                             17       3       17                         10   \n",
       "1                             17       3       18                          6   \n",
       "2                             17       2       14                          8   \n",
       "\n",
       "   Vitamin C (% Daily Value)  Calcium (% Daily Value)  Iron (% Daily Value)  \n",
       "0                          0                       25                    15  \n",
       "1                          0                       25                     8  \n",
       "2                          0                       25                    10  \n",
       "\n",
       "[3 rows x 24 columns]"
      ]
     },
     "execution_count": 77,
     "metadata": {},
     "output_type": "execute_result"
    }
   ],
   "source": [
    "data.head(3)"
   ]
  },
  {
   "cell_type": "markdown",
   "metadata": {},
   "source": [
    "## Data Cleaning\n",
    "In data science, data cleaning is the process of reformatting the data you are given into a format that makes it more organized, easier to understand, and easier to work with. This is an important step because 80% of your time as a data scientist will be spent cleaning data. Knowing the techniques we cover in this workshop will help make the process quicker and less painstaking."
   ]
  },
  {
   "cell_type": "markdown",
   "metadata": {},
   "source": [
    "#### Taking a look at the data features"
   ]
  },
  {
   "cell_type": "code",
   "execution_count": 78,
   "metadata": {},
   "outputs": [
    {
     "data": {
      "text/plain": [
       "Index(['Category', 'Item', 'Serving Size', 'Calories', 'Calories from Fat',\n",
       "       'Total Fat', 'Total Fat (% Daily Value)', 'Saturated Fat',\n",
       "       'Saturated Fat (% Daily Value)', 'Trans Fat', 'Cholesterol',\n",
       "       'Cholesterol (% Daily Value)', 'Sodium', 'Sodium (% Daily Value)',\n",
       "       'Carbohydrates', 'Carbohydrates (% Daily Value)', 'Dietary Fiber',\n",
       "       'Dietary Fiber (% Daily Value)', 'Sugars', 'Protein',\n",
       "       'Vitamin A (% Daily Value)', 'Vitamin C (% Daily Value)',\n",
       "       'Calcium (% Daily Value)', 'Iron (% Daily Value)'],\n",
       "      dtype='object')"
      ]
     },
     "execution_count": 78,
     "metadata": {},
     "output_type": "execute_result"
    }
   ],
   "source": [
    "data.columns"
   ]
  },
  {
   "cell_type": "markdown",
   "metadata": {},
   "source": [
    "These are our features with **numerical values**"
   ]
  },
  {
   "cell_type": "code",
   "execution_count": 79,
   "metadata": {},
   "outputs": [
    {
     "data": {
      "text/plain": [
       "Index(['Calories', 'Calories from Fat', 'Total Fat',\n",
       "       'Total Fat (% Daily Value)', 'Saturated Fat',\n",
       "       'Saturated Fat (% Daily Value)', 'Trans Fat', 'Cholesterol',\n",
       "       'Cholesterol (% Daily Value)', 'Sodium', 'Sodium (% Daily Value)',\n",
       "       'Carbohydrates', 'Carbohydrates (% Daily Value)', 'Dietary Fiber',\n",
       "       'Dietary Fiber (% Daily Value)', 'Sugars', 'Protein',\n",
       "       'Vitamin A (% Daily Value)', 'Vitamin C (% Daily Value)',\n",
       "       'Calcium (% Daily Value)', 'Iron (% Daily Value)'],\n",
       "      dtype='object')"
      ]
     },
     "execution_count": 79,
     "metadata": {},
     "output_type": "execute_result"
    }
   ],
   "source": [
    "data.describe().columns"
   ]
  },
  {
   "cell_type": "markdown",
   "metadata": {},
   "source": [
    "These are our features with **catagorical values**. We can convert our lists to sets and use set arithmetic to so this."
   ]
  },
  {
   "cell_type": "code",
   "execution_count": 80,
   "metadata": {},
   "outputs": [
    {
     "data": {
      "text/plain": [
       "['Category', 'Item', 'Serving Size']"
      ]
     },
     "execution_count": 80,
     "metadata": {},
     "output_type": "execute_result"
    }
   ],
   "source": [
    "list(set(data.columns) - set(data.describe().columns))"
   ]
  },
  {
   "cell_type": "code",
   "execution_count": 81,
   "metadata": {
    "scrolled": true
   },
   "outputs": [
    {
     "data": {
      "text/html": [
       "<div>\n",
       "<style scoped>\n",
       "    .dataframe tbody tr th:only-of-type {\n",
       "        vertical-align: middle;\n",
       "    }\n",
       "\n",
       "    .dataframe tbody tr th {\n",
       "        vertical-align: top;\n",
       "    }\n",
       "\n",
       "    .dataframe thead th {\n",
       "        text-align: right;\n",
       "    }\n",
       "</style>\n",
       "<table border=\"1\" class=\"dataframe\">\n",
       "  <thead>\n",
       "    <tr style=\"text-align: right;\">\n",
       "      <th></th>\n",
       "      <th>Calories</th>\n",
       "      <th>Calories from Fat</th>\n",
       "      <th>Total Fat</th>\n",
       "      <th>Total Fat (% Daily Value)</th>\n",
       "      <th>Saturated Fat</th>\n",
       "      <th>Saturated Fat (% Daily Value)</th>\n",
       "      <th>Trans Fat</th>\n",
       "      <th>Cholesterol</th>\n",
       "      <th>Cholesterol (% Daily Value)</th>\n",
       "      <th>Sodium</th>\n",
       "      <th>...</th>\n",
       "      <th>Carbohydrates</th>\n",
       "      <th>Carbohydrates (% Daily Value)</th>\n",
       "      <th>Dietary Fiber</th>\n",
       "      <th>Dietary Fiber (% Daily Value)</th>\n",
       "      <th>Sugars</th>\n",
       "      <th>Protein</th>\n",
       "      <th>Vitamin A (% Daily Value)</th>\n",
       "      <th>Vitamin C (% Daily Value)</th>\n",
       "      <th>Calcium (% Daily Value)</th>\n",
       "      <th>Iron (% Daily Value)</th>\n",
       "    </tr>\n",
       "  </thead>\n",
       "  <tbody>\n",
       "    <tr>\n",
       "      <th>167</th>\n",
       "      <td>250</td>\n",
       "      <td>0</td>\n",
       "      <td>0.0</td>\n",
       "      <td>0</td>\n",
       "      <td>0.0</td>\n",
       "      <td>0</td>\n",
       "      <td>0.0</td>\n",
       "      <td>5</td>\n",
       "      <td>2</td>\n",
       "      <td>135</td>\n",
       "      <td>...</td>\n",
       "      <td>51</td>\n",
       "      <td>17</td>\n",
       "      <td>1</td>\n",
       "      <td>4</td>\n",
       "      <td>48</td>\n",
       "      <td>12</td>\n",
       "      <td>15</td>\n",
       "      <td>0</td>\n",
       "      <td>40</td>\n",
       "      <td>0</td>\n",
       "    </tr>\n",
       "    <tr>\n",
       "      <th>23</th>\n",
       "      <td>500</td>\n",
       "      <td>230</td>\n",
       "      <td>26.0</td>\n",
       "      <td>40</td>\n",
       "      <td>10.0</td>\n",
       "      <td>52</td>\n",
       "      <td>0.0</td>\n",
       "      <td>50</td>\n",
       "      <td>17</td>\n",
       "      <td>1320</td>\n",
       "      <td>...</td>\n",
       "      <td>46</td>\n",
       "      <td>15</td>\n",
       "      <td>2</td>\n",
       "      <td>9</td>\n",
       "      <td>15</td>\n",
       "      <td>21</td>\n",
       "      <td>2</td>\n",
       "      <td>0</td>\n",
       "      <td>20</td>\n",
       "      <td>10</td>\n",
       "    </tr>\n",
       "    <tr>\n",
       "      <th>225</th>\n",
       "      <td>670</td>\n",
       "      <td>240</td>\n",
       "      <td>26.0</td>\n",
       "      <td>41</td>\n",
       "      <td>17.0</td>\n",
       "      <td>85</td>\n",
       "      <td>1.0</td>\n",
       "      <td>90</td>\n",
       "      <td>30</td>\n",
       "      <td>190</td>\n",
       "      <td>...</td>\n",
       "      <td>98</td>\n",
       "      <td>33</td>\n",
       "      <td>1</td>\n",
       "      <td>4</td>\n",
       "      <td>88</td>\n",
       "      <td>11</td>\n",
       "      <td>20</td>\n",
       "      <td>0</td>\n",
       "      <td>35</td>\n",
       "      <td>4</td>\n",
       "    </tr>\n",
       "    <tr>\n",
       "      <th>139</th>\n",
       "      <td>0</td>\n",
       "      <td>0</td>\n",
       "      <td>0.0</td>\n",
       "      <td>0</td>\n",
       "      <td>0.0</td>\n",
       "      <td>0</td>\n",
       "      <td>0.0</td>\n",
       "      <td>0</td>\n",
       "      <td>0</td>\n",
       "      <td>15</td>\n",
       "      <td>...</td>\n",
       "      <td>0</td>\n",
       "      <td>0</td>\n",
       "      <td>0</td>\n",
       "      <td>0</td>\n",
       "      <td>0</td>\n",
       "      <td>0</td>\n",
       "      <td>0</td>\n",
       "      <td>0</td>\n",
       "      <td>0</td>\n",
       "      <td>0</td>\n",
       "    </tr>\n",
       "    <tr>\n",
       "      <th>227</th>\n",
       "      <td>550</td>\n",
       "      <td>200</td>\n",
       "      <td>23.0</td>\n",
       "      <td>35</td>\n",
       "      <td>15.0</td>\n",
       "      <td>73</td>\n",
       "      <td>1.0</td>\n",
       "      <td>80</td>\n",
       "      <td>27</td>\n",
       "      <td>160</td>\n",
       "      <td>...</td>\n",
       "      <td>79</td>\n",
       "      <td>26</td>\n",
       "      <td>0</td>\n",
       "      <td>0</td>\n",
       "      <td>71</td>\n",
       "      <td>9</td>\n",
       "      <td>20</td>\n",
       "      <td>0</td>\n",
       "      <td>30</td>\n",
       "      <td>2</td>\n",
       "    </tr>\n",
       "  </tbody>\n",
       "</table>\n",
       "<p>5 rows × 21 columns</p>\n",
       "</div>"
      ],
      "text/plain": [
       "     Calories  Calories from Fat  Total Fat  Total Fat (% Daily Value)  \\\n",
       "167       250                  0        0.0                          0   \n",
       "23        500                230       26.0                         40   \n",
       "225       670                240       26.0                         41   \n",
       "139         0                  0        0.0                          0   \n",
       "227       550                200       23.0                         35   \n",
       "\n",
       "     Saturated Fat  Saturated Fat (% Daily Value)  Trans Fat  Cholesterol  \\\n",
       "167            0.0                              0        0.0            5   \n",
       "23            10.0                             52        0.0           50   \n",
       "225           17.0                             85        1.0           90   \n",
       "139            0.0                              0        0.0            0   \n",
       "227           15.0                             73        1.0           80   \n",
       "\n",
       "     Cholesterol (% Daily Value)  Sodium          ...           Carbohydrates  \\\n",
       "167                            2     135          ...                      51   \n",
       "23                            17    1320          ...                      46   \n",
       "225                           30     190          ...                      98   \n",
       "139                            0      15          ...                       0   \n",
       "227                           27     160          ...                      79   \n",
       "\n",
       "     Carbohydrates (% Daily Value)  Dietary Fiber  \\\n",
       "167                             17              1   \n",
       "23                              15              2   \n",
       "225                             33              1   \n",
       "139                              0              0   \n",
       "227                             26              0   \n",
       "\n",
       "     Dietary Fiber (% Daily Value)  Sugars  Protein  \\\n",
       "167                              4      48       12   \n",
       "23                               9      15       21   \n",
       "225                              4      88       11   \n",
       "139                              0       0        0   \n",
       "227                              0      71        9   \n",
       "\n",
       "     Vitamin A (% Daily Value)  Vitamin C (% Daily Value)  \\\n",
       "167                         15                          0   \n",
       "23                           2                          0   \n",
       "225                         20                          0   \n",
       "139                          0                          0   \n",
       "227                         20                          0   \n",
       "\n",
       "     Calcium (% Daily Value)  Iron (% Daily Value)  \n",
       "167                       40                     0  \n",
       "23                        20                    10  \n",
       "225                       35                     4  \n",
       "139                        0                     0  \n",
       "227                       30                     2  \n",
       "\n",
       "[5 rows x 21 columns]"
      ]
     },
     "execution_count": 81,
     "metadata": {},
     "output_type": "execute_result"
    }
   ],
   "source": [
    "data[data.describe().columns].sample(5)"
   ]
  },
  {
   "cell_type": "code",
   "execution_count": 82,
   "metadata": {},
   "outputs": [
    {
     "data": {
      "text/html": [
       "<div>\n",
       "<style scoped>\n",
       "    .dataframe tbody tr th:only-of-type {\n",
       "        vertical-align: middle;\n",
       "    }\n",
       "\n",
       "    .dataframe tbody tr th {\n",
       "        vertical-align: top;\n",
       "    }\n",
       "\n",
       "    .dataframe thead th {\n",
       "        text-align: right;\n",
       "    }\n",
       "</style>\n",
       "<table border=\"1\" class=\"dataframe\">\n",
       "  <thead>\n",
       "    <tr style=\"text-align: right;\">\n",
       "      <th></th>\n",
       "      <th>Category</th>\n",
       "      <th>Item</th>\n",
       "      <th>Serving Size</th>\n",
       "    </tr>\n",
       "  </thead>\n",
       "  <tbody>\n",
       "    <tr>\n",
       "      <th>40</th>\n",
       "      <td>Breakfast</td>\n",
       "      <td>Fruit &amp; Maple Oatmeal</td>\n",
       "      <td>9.6 oz (251 g)</td>\n",
       "    </tr>\n",
       "    <tr>\n",
       "      <th>201</th>\n",
       "      <td>Coffee &amp; Tea</td>\n",
       "      <td>Caramel Iced Coffee (Large)</td>\n",
       "      <td>32 fl oz cup</td>\n",
       "    </tr>\n",
       "    <tr>\n",
       "      <th>87</th>\n",
       "      <td>Salads</td>\n",
       "      <td>Premium Southwest Salad (without Chicken)</td>\n",
       "      <td>8.1 oz (230 g)</td>\n",
       "    </tr>\n",
       "    <tr>\n",
       "      <th>243</th>\n",
       "      <td>Smoothies &amp; Shakes</td>\n",
       "      <td>Vanilla Shake (Large)</td>\n",
       "      <td>22 fl oz cup</td>\n",
       "    </tr>\n",
       "    <tr>\n",
       "      <th>43</th>\n",
       "      <td>Beef &amp; Pork</td>\n",
       "      <td>Quarter Pounder with Cheese</td>\n",
       "      <td>7.1 oz (202 g)</td>\n",
       "    </tr>\n",
       "  </tbody>\n",
       "</table>\n",
       "</div>"
      ],
      "text/plain": [
       "               Category                                       Item  \\\n",
       "40            Breakfast                      Fruit & Maple Oatmeal   \n",
       "201        Coffee & Tea                Caramel Iced Coffee (Large)   \n",
       "87               Salads  Premium Southwest Salad (without Chicken)   \n",
       "243  Smoothies & Shakes                      Vanilla Shake (Large)   \n",
       "43          Beef & Pork                Quarter Pounder with Cheese   \n",
       "\n",
       "       Serving Size  \n",
       "40   9.6 oz (251 g)  \n",
       "201    32 fl oz cup  \n",
       "87   8.1 oz (230 g)  \n",
       "243    22 fl oz cup  \n",
       "43   7.1 oz (202 g)  "
      ]
     },
     "execution_count": 82,
     "metadata": {},
     "output_type": "execute_result"
    }
   ],
   "source": [
    "data[list(set(data.columns) - set(data.describe().columns))].sample(5)"
   ]
  },
  {
   "cell_type": "markdown",
   "metadata": {},
   "source": [
    "First lets check to see if we have uniform values for our category features"
   ]
  },
  {
   "cell_type": "code",
   "execution_count": 83,
   "metadata": {},
   "outputs": [
    {
     "data": {
      "text/plain": [
       "array(['Breakfast', 'Beef & Pork', 'Chicken & Fish', 'Salads',\n",
       "       'Snacks & Sides', 'Desserts', 'Beverages', 'Coffee & Tea',\n",
       "       'Smoothies & Shakes'], dtype=object)"
      ]
     },
     "execution_count": 83,
     "metadata": {},
     "output_type": "execute_result"
    }
   ],
   "source": [
    "data.Category.unique()"
   ]
  },
  {
   "cell_type": "markdown",
   "metadata": {},
   "source": [
    "We can see that the categories are pretty nicely seperated so we dont have to do anything this column"
   ]
  },
  {
   "cell_type": "markdown",
   "metadata": {},
   "source": [
    "One thing that is a little messy and could cause problems in our Serving Size column. These are stores as strings."
   ]
  },
  {
   "cell_type": "code",
   "execution_count": 84,
   "metadata": {},
   "outputs": [
    {
     "data": {
      "text/plain": [
       "'4.8 oz (135 g)'"
      ]
     },
     "execution_count": 84,
     "metadata": {},
     "output_type": "execute_result"
    }
   ],
   "source": [
    "data['Serving Size'][1]"
   ]
  },
  {
   "cell_type": "code",
   "execution_count": 85,
   "metadata": {},
   "outputs": [
    {
     "data": {
      "text/plain": [
       "str"
      ]
     },
     "execution_count": 85,
     "metadata": {},
     "output_type": "execute_result"
    }
   ],
   "source": [
    "type(data['Serving Size'][1])"
   ]
  },
  {
   "cell_type": "markdown",
   "metadata": {},
   "source": [
    "Lets convert these to numerical float values. <br><br>\n",
    "\n",
    "In this case we want to create a function that we can apply to the whole <code>Serving Size</code> column. We can use the pandas apply function to do this. First we need to create the function we want to apply to the column"
   ]
  },
  {
   "cell_type": "markdown",
   "metadata": {},
   "source": [
    "First lets look at the unique values in this column."
   ]
  },
  {
   "cell_type": "code",
   "execution_count": 86,
   "metadata": {},
   "outputs": [
    {
     "data": {
      "text/plain": [
       "array(['4.8 oz (136 g)', '4.8 oz (135 g)', '3.9 oz (111 g)',\n",
       "       '5.7 oz (161 g)', '6.5 oz (185 g)', '5.3 oz (150 g)',\n",
       "       '5.8 oz (164 g)', '5.4 oz (153 g)', '5.9 oz (167 g)',\n",
       "       '4.1 oz (117 g)', '4.6 oz (131 g)', '5.7 oz (163 g)',\n",
       "       '6.2 oz (177 g)', '6.4 oz (181 g)', '5 oz (143 g)',\n",
       "       '5.5 oz (157 g)', '7.1 oz (201 g)', '6.1 oz (174 g)',\n",
       "       '6.3 oz (178 g)', '5 oz (141 g)', '7.2 oz (205 g)',\n",
       "       '6.9 oz (197 g)', '8.5 oz (241 g)', '9.5 oz (269 g)',\n",
       "       '10 oz (283 g)', '9.6 oz (272 g)', '10.1 oz (286 g)',\n",
       "       '14.8 oz (420 g)', '15.3 oz (434 g)', '14.9 oz (423 g)',\n",
       "       '15.4 oz (437 g)', '5.3 oz (151 g)', '6.8 oz (192 g)',\n",
       "       '2 oz (56 g)', '4 oz (114 g)', '9.6 oz (251 g)', '7.4 oz (211 g)',\n",
       "       '7.1 oz (202 g)', '8 oz (227 g)', '8.3 oz (235 g)',\n",
       "       '8.6 oz (244 g)', '3.5 oz (98 g)', '4 oz (113 g)',\n",
       "       '9.5 oz (270 g)', '5.2 oz (147 g)', '6.7 oz (190 g)',\n",
       "       '5.6 oz (159 g)', '7.3 oz (208 g)', '7.5 oz (213 g)',\n",
       "       '7 oz (200 g)', '8.8 oz (249 g)', '8.1 oz (230 g)',\n",
       "       '7.6 oz (217 g)', '10 oz (284 g)', '5.6 oz (160 g)',\n",
       "       '5.1 oz (143 g)', '6 oz (171 g)', '5.2 oz (148 g)',\n",
       "       '11.1 oz (316 g)', '10.7 oz (302 g)', '10.9 oz (310 g)',\n",
       "       '10.5 oz (297 g)', '11.1 oz (314 g)', '11.2 oz (318 g)',\n",
       "       '10.7 oz (304 g)', '10.3 oz (291 g)', '2.3 oz (65 g)',\n",
       "       '3.4 oz (97 g)', '5.7 oz (162 g)', '11.4 oz (323 g)',\n",
       "       '22.8 oz (646 g)', '5 oz (142 g)', '7.9 oz (223 g)',\n",
       "       '9 oz (255 g)', '12.3 oz (348 g)', '11.8 oz (335 g)',\n",
       "       '4.6 oz (130 g)', '4.3 oz (123 g)', '4.1 oz (116 g)',\n",
       "       '4.5 oz (128 g)', '4.3 oz (121 g)', '2.6 oz (75 g)',\n",
       "       '5.9 oz (168 g)', '1.3 oz (38 g)', '3.1 oz (87 g)',\n",
       "       '1.2 oz (34 g)', '5.2 oz (149 g)', '2.7 oz (77 g)',\n",
       "       '1 cookie (33 g)', '1 oz (29 g)', '6.3 oz (179 g)',\n",
       "       '6.4 oz (182 g)', '16 fl oz cup', '21 fl oz cup', '30 fl oz cup',\n",
       "       '12 fl oz cup', '1 carton (236 ml)', '6 fl oz (177 ml)',\n",
       "       '22 fl oz cup', '16.9 fl oz', '20 fl oz cup', '32 fl oz cup',\n",
       "       '16.2 oz (460 g)', '7.3 oz (207 g)', '10.1 oz (285 g)',\n",
       "       '13.4 oz (381 g)', '14.2 oz (403 g)'], dtype=object)"
      ]
     },
     "execution_count": 86,
     "metadata": {},
     "output_type": "execute_result"
    }
   ],
   "source": [
    "data['Serving Size'].unique()"
   ]
  },
  {
   "cell_type": "markdown",
   "metadata": {},
   "source": [
    "Here we see that there are already gram conversions here. But some of the data points are in fluid ounces without the gram conversion. For the sake of simplicity lets convert the serving size column to grams.<br><br>\n",
    "The conversion from 1 fl oz to gram is as follows:\n",
    "\n",
    "$1$ $fl$ $oz$ $=$ $29.57352956$ $g$<br><br>\n",
    "We can use this to calculate our grams."
   ]
  },
  {
   "cell_type": "code",
   "execution_count": 87,
   "metadata": {},
   "outputs": [],
   "source": [
    "def serving_size_cleaning(data_point):\n",
    "    \n",
    "    # First lets get handle the case of the values with given gram conversions\n",
    "    if data_point[-2:] == 'g)':\n",
    "        search_ind = data_point.find('(') + 1\n",
    "        grams = float(data_point[search_ind: -3])\n",
    "        \n",
    "    # Next lets handle the case that uses ml. The baseline conversion is 1 ml = 1 g so use this for simplicity\n",
    "    elif data_point[-3:] == 'ml)':\n",
    "        search_ind = data_point.find('(') + 1\n",
    "        grams = float(data_point[search_ind: -4])\n",
    "        \n",
    "    # Next lets handle the only remaining case which is the fl oz unit case\n",
    "    else:\n",
    "        search_ind = data_point.find(' ')\n",
    "        grams = float(data_point[:search_ind]) * 29.57352956\n",
    "    \n",
    "    return grams\n",
    "        \n",
    "        "
   ]
  },
  {
   "cell_type": "markdown",
   "metadata": {},
   "source": [
    "Lets test to see if our function works"
   ]
  },
  {
   "cell_type": "code",
   "execution_count": 88,
   "metadata": {},
   "outputs": [
    {
     "data": {
      "text/plain": [
       "591.4705912000001"
      ]
     },
     "execution_count": 88,
     "metadata": {},
     "output_type": "execute_result"
    }
   ],
   "source": [
    "serving_size_cleaning('20 fl oz cup')"
   ]
  },
  {
   "cell_type": "markdown",
   "metadata": {},
   "source": [
    "Now lets apply it to our <code>Serving Size</code> column"
   ]
  },
  {
   "cell_type": "code",
   "execution_count": 89,
   "metadata": {},
   "outputs": [
    {
     "data": {
      "text/plain": [
       "0    136.0\n",
       "1    135.0\n",
       "2    111.0\n",
       "3    161.0\n",
       "4    161.0\n",
       "5    185.0\n",
       "6    150.0\n",
       "7    164.0\n",
       "8    153.0\n",
       "9    167.0\n",
       "Name: Serving Size, dtype: float64"
      ]
     },
     "execution_count": 89,
     "metadata": {},
     "output_type": "execute_result"
    }
   ],
   "source": [
    "data['Serving Size'].apply(serving_size_cleaning)[:10]"
   ]
  },
  {
   "cell_type": "markdown",
   "metadata": {},
   "source": [
    "Now that we know it works lets save it to our dataset"
   ]
  },
  {
   "cell_type": "code",
   "execution_count": 90,
   "metadata": {},
   "outputs": [],
   "source": [
    "data['Serving Size'] = data['Serving Size'].apply(serving_size_cleaning)"
   ]
  },
  {
   "cell_type": "code",
   "execution_count": 91,
   "metadata": {},
   "outputs": [
    {
     "data": {
      "text/html": [
       "<div>\n",
       "<style scoped>\n",
       "    .dataframe tbody tr th:only-of-type {\n",
       "        vertical-align: middle;\n",
       "    }\n",
       "\n",
       "    .dataframe tbody tr th {\n",
       "        vertical-align: top;\n",
       "    }\n",
       "\n",
       "    .dataframe thead th {\n",
       "        text-align: right;\n",
       "    }\n",
       "</style>\n",
       "<table border=\"1\" class=\"dataframe\">\n",
       "  <thead>\n",
       "    <tr style=\"text-align: right;\">\n",
       "      <th></th>\n",
       "      <th>Category</th>\n",
       "      <th>Item</th>\n",
       "      <th>Serving Size</th>\n",
       "      <th>Calories</th>\n",
       "      <th>Calories from Fat</th>\n",
       "      <th>Total Fat</th>\n",
       "      <th>Total Fat (% Daily Value)</th>\n",
       "      <th>Saturated Fat</th>\n",
       "      <th>Saturated Fat (% Daily Value)</th>\n",
       "      <th>Trans Fat</th>\n",
       "      <th>...</th>\n",
       "      <th>Carbohydrates</th>\n",
       "      <th>Carbohydrates (% Daily Value)</th>\n",
       "      <th>Dietary Fiber</th>\n",
       "      <th>Dietary Fiber (% Daily Value)</th>\n",
       "      <th>Sugars</th>\n",
       "      <th>Protein</th>\n",
       "      <th>Vitamin A (% Daily Value)</th>\n",
       "      <th>Vitamin C (% Daily Value)</th>\n",
       "      <th>Calcium (% Daily Value)</th>\n",
       "      <th>Iron (% Daily Value)</th>\n",
       "    </tr>\n",
       "  </thead>\n",
       "  <tbody>\n",
       "    <tr>\n",
       "      <th>106</th>\n",
       "      <td>Desserts</td>\n",
       "      <td>Kids Ice Cream Cone</td>\n",
       "      <td>29.000000</td>\n",
       "      <td>45</td>\n",
       "      <td>10</td>\n",
       "      <td>1.5</td>\n",
       "      <td>2</td>\n",
       "      <td>1.0</td>\n",
       "      <td>4</td>\n",
       "      <td>0.0</td>\n",
       "      <td>...</td>\n",
       "      <td>7</td>\n",
       "      <td>2</td>\n",
       "      <td>0</td>\n",
       "      <td>0</td>\n",
       "      <td>6</td>\n",
       "      <td>1</td>\n",
       "      <td>2</td>\n",
       "      <td>0</td>\n",
       "      <td>4</td>\n",
       "      <td>0</td>\n",
       "    </tr>\n",
       "    <tr>\n",
       "      <th>104</th>\n",
       "      <td>Desserts</td>\n",
       "      <td>Chocolate Chip Cookie</td>\n",
       "      <td>33.000000</td>\n",
       "      <td>160</td>\n",
       "      <td>70</td>\n",
       "      <td>8.0</td>\n",
       "      <td>12</td>\n",
       "      <td>3.5</td>\n",
       "      <td>19</td>\n",
       "      <td>0.0</td>\n",
       "      <td>...</td>\n",
       "      <td>21</td>\n",
       "      <td>7</td>\n",
       "      <td>1</td>\n",
       "      <td>3</td>\n",
       "      <td>15</td>\n",
       "      <td>2</td>\n",
       "      <td>2</td>\n",
       "      <td>0</td>\n",
       "      <td>2</td>\n",
       "      <td>8</td>\n",
       "    </tr>\n",
       "    <tr>\n",
       "      <th>136</th>\n",
       "      <td>Beverages</td>\n",
       "      <td>Dasani Water Bottle</td>\n",
       "      <td>499.792650</td>\n",
       "      <td>0</td>\n",
       "      <td>0</td>\n",
       "      <td>0.0</td>\n",
       "      <td>0</td>\n",
       "      <td>0.0</td>\n",
       "      <td>0</td>\n",
       "      <td>0.0</td>\n",
       "      <td>...</td>\n",
       "      <td>0</td>\n",
       "      <td>0</td>\n",
       "      <td>0</td>\n",
       "      <td>0</td>\n",
       "      <td>0</td>\n",
       "      <td>0</td>\n",
       "      <td>0</td>\n",
       "      <td>0</td>\n",
       "      <td>0</td>\n",
       "      <td>0</td>\n",
       "    </tr>\n",
       "    <tr>\n",
       "      <th>120</th>\n",
       "      <td>Beverages</td>\n",
       "      <td>Dr Pepper (Large)</td>\n",
       "      <td>887.205887</td>\n",
       "      <td>270</td>\n",
       "      <td>0</td>\n",
       "      <td>0.0</td>\n",
       "      <td>0</td>\n",
       "      <td>0.0</td>\n",
       "      <td>0</td>\n",
       "      <td>0.0</td>\n",
       "      <td>...</td>\n",
       "      <td>72</td>\n",
       "      <td>24</td>\n",
       "      <td>0</td>\n",
       "      <td>0</td>\n",
       "      <td>70</td>\n",
       "      <td>0</td>\n",
       "      <td>0</td>\n",
       "      <td>0</td>\n",
       "      <td>0</td>\n",
       "      <td>0</td>\n",
       "    </tr>\n",
       "    <tr>\n",
       "      <th>140</th>\n",
       "      <td>Coffee &amp; Tea</td>\n",
       "      <td>Iced Tea (Child)</td>\n",
       "      <td>354.882355</td>\n",
       "      <td>0</td>\n",
       "      <td>0</td>\n",
       "      <td>0.0</td>\n",
       "      <td>0</td>\n",
       "      <td>0.0</td>\n",
       "      <td>0</td>\n",
       "      <td>0.0</td>\n",
       "      <td>...</td>\n",
       "      <td>0</td>\n",
       "      <td>0</td>\n",
       "      <td>0</td>\n",
       "      <td>0</td>\n",
       "      <td>0</td>\n",
       "      <td>0</td>\n",
       "      <td>0</td>\n",
       "      <td>0</td>\n",
       "      <td>0</td>\n",
       "      <td>0</td>\n",
       "    </tr>\n",
       "    <tr>\n",
       "      <th>15</th>\n",
       "      <td>Breakfast</td>\n",
       "      <td>Sausage Biscuit with Egg Whites (Large Biscuit)</td>\n",
       "      <td>181.000000</td>\n",
       "      <td>520</td>\n",
       "      <td>280</td>\n",
       "      <td>32.0</td>\n",
       "      <td>49</td>\n",
       "      <td>13.0</td>\n",
       "      <td>65</td>\n",
       "      <td>0.0</td>\n",
       "      <td>...</td>\n",
       "      <td>40</td>\n",
       "      <td>13</td>\n",
       "      <td>3</td>\n",
       "      <td>11</td>\n",
       "      <td>3</td>\n",
       "      <td>18</td>\n",
       "      <td>4</td>\n",
       "      <td>0</td>\n",
       "      <td>8</td>\n",
       "      <td>15</td>\n",
       "    </tr>\n",
       "    <tr>\n",
       "      <th>45</th>\n",
       "      <td>Beef &amp; Pork</td>\n",
       "      <td>Quarter Pounder with Bacon Habanero Ranch</td>\n",
       "      <td>235.000000</td>\n",
       "      <td>610</td>\n",
       "      <td>280</td>\n",
       "      <td>31.0</td>\n",
       "      <td>48</td>\n",
       "      <td>13.0</td>\n",
       "      <td>64</td>\n",
       "      <td>1.5</td>\n",
       "      <td>...</td>\n",
       "      <td>46</td>\n",
       "      <td>15</td>\n",
       "      <td>3</td>\n",
       "      <td>14</td>\n",
       "      <td>10</td>\n",
       "      <td>37</td>\n",
       "      <td>8</td>\n",
       "      <td>20</td>\n",
       "      <td>25</td>\n",
       "      <td>30</td>\n",
       "    </tr>\n",
       "    <tr>\n",
       "      <th>238</th>\n",
       "      <td>Smoothies &amp; Shakes</td>\n",
       "      <td>Mango Pineapple Smoothie (Small)</td>\n",
       "      <td>354.882355</td>\n",
       "      <td>210</td>\n",
       "      <td>5</td>\n",
       "      <td>0.5</td>\n",
       "      <td>1</td>\n",
       "      <td>0.0</td>\n",
       "      <td>0</td>\n",
       "      <td>0.0</td>\n",
       "      <td>...</td>\n",
       "      <td>50</td>\n",
       "      <td>17</td>\n",
       "      <td>1</td>\n",
       "      <td>4</td>\n",
       "      <td>46</td>\n",
       "      <td>2</td>\n",
       "      <td>30</td>\n",
       "      <td>20</td>\n",
       "      <td>8</td>\n",
       "      <td>2</td>\n",
       "    </tr>\n",
       "    <tr>\n",
       "      <th>124</th>\n",
       "      <td>Beverages</td>\n",
       "      <td>Diet Dr Pepper (Large)</td>\n",
       "      <td>887.205887</td>\n",
       "      <td>0</td>\n",
       "      <td>0</td>\n",
       "      <td>0.0</td>\n",
       "      <td>0</td>\n",
       "      <td>0.0</td>\n",
       "      <td>0</td>\n",
       "      <td>0.0</td>\n",
       "      <td>...</td>\n",
       "      <td>0</td>\n",
       "      <td>0</td>\n",
       "      <td>0</td>\n",
       "      <td>0</td>\n",
       "      <td>0</td>\n",
       "      <td>4</td>\n",
       "      <td>0</td>\n",
       "      <td>0</td>\n",
       "      <td>0</td>\n",
       "      <td>0</td>\n",
       "    </tr>\n",
       "    <tr>\n",
       "      <th>74</th>\n",
       "      <td>Chicken &amp; Fish</td>\n",
       "      <td>Premium McWrap Southwest Chicken (Crispy Chicken)</td>\n",
       "      <td>314.000000</td>\n",
       "      <td>670</td>\n",
       "      <td>300</td>\n",
       "      <td>33.0</td>\n",
       "      <td>51</td>\n",
       "      <td>8.0</td>\n",
       "      <td>40</td>\n",
       "      <td>0.5</td>\n",
       "      <td>...</td>\n",
       "      <td>68</td>\n",
       "      <td>23</td>\n",
       "      <td>5</td>\n",
       "      <td>19</td>\n",
       "      <td>12</td>\n",
       "      <td>27</td>\n",
       "      <td>60</td>\n",
       "      <td>15</td>\n",
       "      <td>20</td>\n",
       "      <td>20</td>\n",
       "    </tr>\n",
       "  </tbody>\n",
       "</table>\n",
       "<p>10 rows × 24 columns</p>\n",
       "</div>"
      ],
      "text/plain": [
       "               Category                                               Item  \\\n",
       "106            Desserts                                Kids Ice Cream Cone   \n",
       "104            Desserts                              Chocolate Chip Cookie   \n",
       "136           Beverages                                Dasani Water Bottle   \n",
       "120           Beverages                                  Dr Pepper (Large)   \n",
       "140        Coffee & Tea                                   Iced Tea (Child)   \n",
       "15            Breakfast    Sausage Biscuit with Egg Whites (Large Biscuit)   \n",
       "45          Beef & Pork          Quarter Pounder with Bacon Habanero Ranch   \n",
       "238  Smoothies & Shakes                   Mango Pineapple Smoothie (Small)   \n",
       "124           Beverages                             Diet Dr Pepper (Large)   \n",
       "74       Chicken & Fish  Premium McWrap Southwest Chicken (Crispy Chicken)   \n",
       "\n",
       "     Serving Size  Calories  Calories from Fat  Total Fat  \\\n",
       "106     29.000000        45                 10        1.5   \n",
       "104     33.000000       160                 70        8.0   \n",
       "136    499.792650         0                  0        0.0   \n",
       "120    887.205887       270                  0        0.0   \n",
       "140    354.882355         0                  0        0.0   \n",
       "15     181.000000       520                280       32.0   \n",
       "45     235.000000       610                280       31.0   \n",
       "238    354.882355       210                  5        0.5   \n",
       "124    887.205887         0                  0        0.0   \n",
       "74     314.000000       670                300       33.0   \n",
       "\n",
       "     Total Fat (% Daily Value)  Saturated Fat  Saturated Fat (% Daily Value)  \\\n",
       "106                          2            1.0                              4   \n",
       "104                         12            3.5                             19   \n",
       "136                          0            0.0                              0   \n",
       "120                          0            0.0                              0   \n",
       "140                          0            0.0                              0   \n",
       "15                          49           13.0                             65   \n",
       "45                          48           13.0                             64   \n",
       "238                          1            0.0                              0   \n",
       "124                          0            0.0                              0   \n",
       "74                          51            8.0                             40   \n",
       "\n",
       "     Trans Fat          ...           Carbohydrates  \\\n",
       "106        0.0          ...                       7   \n",
       "104        0.0          ...                      21   \n",
       "136        0.0          ...                       0   \n",
       "120        0.0          ...                      72   \n",
       "140        0.0          ...                       0   \n",
       "15         0.0          ...                      40   \n",
       "45         1.5          ...                      46   \n",
       "238        0.0          ...                      50   \n",
       "124        0.0          ...                       0   \n",
       "74         0.5          ...                      68   \n",
       "\n",
       "     Carbohydrates (% Daily Value)  Dietary Fiber  \\\n",
       "106                              2              0   \n",
       "104                              7              1   \n",
       "136                              0              0   \n",
       "120                             24              0   \n",
       "140                              0              0   \n",
       "15                              13              3   \n",
       "45                              15              3   \n",
       "238                             17              1   \n",
       "124                              0              0   \n",
       "74                              23              5   \n",
       "\n",
       "     Dietary Fiber (% Daily Value)  Sugars  Protein  \\\n",
       "106                              0       6        1   \n",
       "104                              3      15        2   \n",
       "136                              0       0        0   \n",
       "120                              0      70        0   \n",
       "140                              0       0        0   \n",
       "15                              11       3       18   \n",
       "45                              14      10       37   \n",
       "238                              4      46        2   \n",
       "124                              0       0        4   \n",
       "74                              19      12       27   \n",
       "\n",
       "     Vitamin A (% Daily Value)  Vitamin C (% Daily Value)  \\\n",
       "106                          2                          0   \n",
       "104                          2                          0   \n",
       "136                          0                          0   \n",
       "120                          0                          0   \n",
       "140                          0                          0   \n",
       "15                           4                          0   \n",
       "45                           8                         20   \n",
       "238                         30                         20   \n",
       "124                          0                          0   \n",
       "74                          60                         15   \n",
       "\n",
       "     Calcium (% Daily Value)  Iron (% Daily Value)  \n",
       "106                        4                     0  \n",
       "104                        2                     8  \n",
       "136                        0                     0  \n",
       "120                        0                     0  \n",
       "140                        0                     0  \n",
       "15                         8                    15  \n",
       "45                        25                    30  \n",
       "238                        8                     2  \n",
       "124                        0                     0  \n",
       "74                        20                    20  \n",
       "\n",
       "[10 rows x 24 columns]"
      ]
     },
     "execution_count": 91,
     "metadata": {},
     "output_type": "execute_result"
    }
   ],
   "source": [
    "data.sample(10)"
   ]
  },
  {
   "cell_type": "markdown",
   "metadata": {},
   "source": [
    "## EDA"
   ]
  },
  {
   "cell_type": "markdown",
   "metadata": {},
   "source": [
    "Now that we have cleaned our data lets take a look at what we have and see if we can find out more information about it. This process is called **Exporatory Data Analysis** or **EDA** <br><br>\n",
    "\n",
    "We can use visual aids by using the <code>matplotlib</code> library."
   ]
  },
  {
   "cell_type": "code",
   "execution_count": 105,
   "metadata": {},
   "outputs": [],
   "source": [
    "import matplotlib.pyplot as plt\n",
    "plt.style.use('seaborn')"
   ]
  },
  {
   "cell_type": "markdown",
   "metadata": {},
   "source": [
    "To get us started we want to ask some questions about the data. A simple on to start would be:<br>\n",
    "What is the breakdown of the categories of the food items on the McDonald menu?"
   ]
  },
  {
   "cell_type": "code",
   "execution_count": 93,
   "metadata": {},
   "outputs": [
    {
     "data": {
      "text/plain": [
       "Coffee & Tea          95\n",
       "Breakfast             42\n",
       "Smoothies & Shakes    28\n",
       "Beverages             27\n",
       "Chicken & Fish        27\n",
       "Beef & Pork           15\n",
       "Snacks & Sides        13\n",
       "Desserts               7\n",
       "Salads                 6\n",
       "Name: Category, dtype: int64"
      ]
     },
     "execution_count": 93,
     "metadata": {},
     "output_type": "execute_result"
    }
   ],
   "source": [
    "data.Category.value_counts()"
   ]
  },
  {
   "cell_type": "markdown",
   "metadata": {},
   "source": [
    "We can turn this into a bar graph for a visual look at this."
   ]
  },
  {
   "cell_type": "code",
   "execution_count": 94,
   "metadata": {},
   "outputs": [
    {
     "data": {
      "image/png": "[encoded data removed]",
      "text/plain": [
       "<Figure size 432x288 with 1 Axes>"
      ]
     },
     "metadata": {},
     "output_type": "display_data"
    }
   ],
   "source": [
    "data.Category.value_counts().plot('bar')\n",
    "plt.show()"
   ]
  },
  {
   "cell_type": "markdown",
   "metadata": {},
   "source": [
    "There is a lot of McCafe options on the menu. Lets take a look at these and see why this is the case."
   ]
  },
  {
   "cell_type": "code",
   "execution_count": 95,
   "metadata": {},
   "outputs": [
    {
     "data": {
      "text/html": [
       "<div>\n",
       "<style scoped>\n",
       "    .dataframe tbody tr th:only-of-type {\n",
       "        vertical-align: middle;\n",
       "    }\n",
       "\n",
       "    .dataframe tbody tr th {\n",
       "        vertical-align: top;\n",
       "    }\n",
       "\n",
       "    .dataframe thead th {\n",
       "        text-align: right;\n",
       "    }\n",
       "</style>\n",
       "<table border=\"1\" class=\"dataframe\">\n",
       "  <thead>\n",
       "    <tr style=\"text-align: right;\">\n",
       "      <th></th>\n",
       "      <th>Category</th>\n",
       "      <th>Item</th>\n",
       "      <th>Serving Size</th>\n",
       "      <th>Calories</th>\n",
       "      <th>Calories from Fat</th>\n",
       "      <th>Total Fat</th>\n",
       "      <th>Total Fat (% Daily Value)</th>\n",
       "      <th>Saturated Fat</th>\n",
       "      <th>Saturated Fat (% Daily Value)</th>\n",
       "      <th>Trans Fat</th>\n",
       "      <th>...</th>\n",
       "      <th>Carbohydrates</th>\n",
       "      <th>Carbohydrates (% Daily Value)</th>\n",
       "      <th>Dietary Fiber</th>\n",
       "      <th>Dietary Fiber (% Daily Value)</th>\n",
       "      <th>Sugars</th>\n",
       "      <th>Protein</th>\n",
       "      <th>Vitamin A (% Daily Value)</th>\n",
       "      <th>Vitamin C (% Daily Value)</th>\n",
       "      <th>Calcium (% Daily Value)</th>\n",
       "      <th>Iron (% Daily Value)</th>\n",
       "    </tr>\n",
       "  </thead>\n",
       "  <tbody>\n",
       "    <tr>\n",
       "      <th>206</th>\n",
       "      <td>Coffee &amp; Tea</td>\n",
       "      <td>French Vanilla Iced Coffee (Medium)</td>\n",
       "      <td>650.617650</td>\n",
       "      <td>170</td>\n",
       "      <td>60</td>\n",
       "      <td>7.0</td>\n",
       "      <td>11</td>\n",
       "      <td>4.5</td>\n",
       "      <td>22</td>\n",
       "      <td>0.0</td>\n",
       "      <td>...</td>\n",
       "      <td>27</td>\n",
       "      <td>9</td>\n",
       "      <td>0</td>\n",
       "      <td>0</td>\n",
       "      <td>26</td>\n",
       "      <td>1</td>\n",
       "      <td>4</td>\n",
       "      <td>0</td>\n",
       "      <td>4</td>\n",
       "      <td>0</td>\n",
       "    </tr>\n",
       "    <tr>\n",
       "      <th>170</th>\n",
       "      <td>Coffee &amp; Tea</td>\n",
       "      <td>Nonfat Hazelnut Latte (Medium)</td>\n",
       "      <td>473.176473</td>\n",
       "      <td>250</td>\n",
       "      <td>0</td>\n",
       "      <td>0.0</td>\n",
       "      <td>0</td>\n",
       "      <td>0.0</td>\n",
       "      <td>0</td>\n",
       "      <td>0.0</td>\n",
       "      <td>...</td>\n",
       "      <td>51</td>\n",
       "      <td>17</td>\n",
       "      <td>1</td>\n",
       "      <td>4</td>\n",
       "      <td>48</td>\n",
       "      <td>12</td>\n",
       "      <td>15</td>\n",
       "      <td>0</td>\n",
       "      <td>40</td>\n",
       "      <td>0</td>\n",
       "    </tr>\n",
       "    <tr>\n",
       "      <th>192</th>\n",
       "      <td>Coffee &amp; Tea</td>\n",
       "      <td>Hot Chocolate (Large)</td>\n",
       "      <td>591.470591</td>\n",
       "      <td>540</td>\n",
       "      <td>180</td>\n",
       "      <td>20.0</td>\n",
       "      <td>31</td>\n",
       "      <td>12.0</td>\n",
       "      <td>58</td>\n",
       "      <td>0.5</td>\n",
       "      <td>...</td>\n",
       "      <td>73</td>\n",
       "      <td>24</td>\n",
       "      <td>1</td>\n",
       "      <td>5</td>\n",
       "      <td>68</td>\n",
       "      <td>17</td>\n",
       "      <td>20</td>\n",
       "      <td>0</td>\n",
       "      <td>60</td>\n",
       "      <td>8</td>\n",
       "    </tr>\n",
       "    <tr>\n",
       "      <th>210</th>\n",
       "      <td>Coffee &amp; Tea</td>\n",
       "      <td>Iced Coffee with Sugar Free French Vanilla Syr...</td>\n",
       "      <td>946.352946</td>\n",
       "      <td>160</td>\n",
       "      <td>80</td>\n",
       "      <td>9.0</td>\n",
       "      <td>14</td>\n",
       "      <td>6.0</td>\n",
       "      <td>29</td>\n",
       "      <td>0.0</td>\n",
       "      <td>...</td>\n",
       "      <td>18</td>\n",
       "      <td>6</td>\n",
       "      <td>0</td>\n",
       "      <td>0</td>\n",
       "      <td>2</td>\n",
       "      <td>2</td>\n",
       "      <td>6</td>\n",
       "      <td>0</td>\n",
       "      <td>8</td>\n",
       "      <td>0</td>\n",
       "    </tr>\n",
       "    <tr>\n",
       "      <th>176</th>\n",
       "      <td>Coffee &amp; Tea</td>\n",
       "      <td>Nonfat Latte with Sugar Free French Vanilla Sy...</td>\n",
       "      <td>473.176473</td>\n",
       "      <td>170</td>\n",
       "      <td>0</td>\n",
       "      <td>0.0</td>\n",
       "      <td>0</td>\n",
       "      <td>0.0</td>\n",
       "      <td>0</td>\n",
       "      <td>0.0</td>\n",
       "      <td>...</td>\n",
       "      <td>30</td>\n",
       "      <td>10</td>\n",
       "      <td>1</td>\n",
       "      <td>5</td>\n",
       "      <td>16</td>\n",
       "      <td>12</td>\n",
       "      <td>15</td>\n",
       "      <td>0</td>\n",
       "      <td>40</td>\n",
       "      <td>0</td>\n",
       "    </tr>\n",
       "  </tbody>\n",
       "</table>\n",
       "<p>5 rows × 24 columns</p>\n",
       "</div>"
      ],
      "text/plain": [
       "         Category                                               Item  \\\n",
       "206  Coffee & Tea                French Vanilla Iced Coffee (Medium)   \n",
       "170  Coffee & Tea                     Nonfat Hazelnut Latte (Medium)   \n",
       "192  Coffee & Tea                              Hot Chocolate (Large)   \n",
       "210  Coffee & Tea  Iced Coffee with Sugar Free French Vanilla Syr...   \n",
       "176  Coffee & Tea  Nonfat Latte with Sugar Free French Vanilla Sy...   \n",
       "\n",
       "     Serving Size  Calories  Calories from Fat  Total Fat  \\\n",
       "206    650.617650       170                 60        7.0   \n",
       "170    473.176473       250                  0        0.0   \n",
       "192    591.470591       540                180       20.0   \n",
       "210    946.352946       160                 80        9.0   \n",
       "176    473.176473       170                  0        0.0   \n",
       "\n",
       "     Total Fat (% Daily Value)  Saturated Fat  Saturated Fat (% Daily Value)  \\\n",
       "206                         11            4.5                             22   \n",
       "170                          0            0.0                              0   \n",
       "192                         31           12.0                             58   \n",
       "210                         14            6.0                             29   \n",
       "176                          0            0.0                              0   \n",
       "\n",
       "     Trans Fat          ...           Carbohydrates  \\\n",
       "206        0.0          ...                      27   \n",
       "170        0.0          ...                      51   \n",
       "192        0.5          ...                      73   \n",
       "210        0.0          ...                      18   \n",
       "176        0.0          ...                      30   \n",
       "\n",
       "     Carbohydrates (% Daily Value)  Dietary Fiber  \\\n",
       "206                              9              0   \n",
       "170                             17              1   \n",
       "192                             24              1   \n",
       "210                              6              0   \n",
       "176                             10              1   \n",
       "\n",
       "     Dietary Fiber (% Daily Value)  Sugars  Protein  \\\n",
       "206                              0      26        1   \n",
       "170                              4      48       12   \n",
       "192                              5      68       17   \n",
       "210                              0       2        2   \n",
       "176                              5      16       12   \n",
       "\n",
       "     Vitamin A (% Daily Value)  Vitamin C (% Daily Value)  \\\n",
       "206                          4                          0   \n",
       "170                         15                          0   \n",
       "192                         20                          0   \n",
       "210                          6                          0   \n",
       "176                         15                          0   \n",
       "\n",
       "     Calcium (% Daily Value)  Iron (% Daily Value)  \n",
       "206                        4                     0  \n",
       "170                       40                     0  \n",
       "192                       60                     8  \n",
       "210                        8                     0  \n",
       "176                       40                     0  \n",
       "\n",
       "[5 rows x 24 columns]"
      ]
     },
     "execution_count": 95,
     "metadata": {},
     "output_type": "execute_result"
    }
   ],
   "source": [
    "data[data.Category == 'Coffee & Tea'].sample(5)"
   ]
  },
  {
   "cell_type": "markdown",
   "metadata": {},
   "source": [
    "From this we see that the cause of there being many items in this category is because of the variety of options available."
   ]
  },
  {
   "cell_type": "markdown",
   "metadata": {},
   "source": [
    "Next lets try to see which of these catagories have the most and least calories."
   ]
  },
  {
   "cell_type": "code",
   "execution_count": 96,
   "metadata": {},
   "outputs": [
    {
     "data": {
      "text/plain": [
       "array(['Breakfast', 'Beef & Pork', 'Chicken & Fish', 'Salads',\n",
       "       'Snacks & Sides', 'Desserts', 'Beverages', 'Coffee & Tea',\n",
       "       'Smoothies & Shakes'], dtype=object)"
      ]
     },
     "execution_count": 96,
     "metadata": {},
     "output_type": "execute_result"
    }
   ],
   "source": [
    "# Getting the different catagories from the menu\n",
    "categories = data.Category.unique()\n",
    "categories"
   ]
  },
  {
   "cell_type": "markdown",
   "metadata": {},
   "source": [
    "Lets store our data into a dictionary to organize our results."
   ]
  },
  {
   "cell_type": "code",
   "execution_count": 97,
   "metadata": {},
   "outputs": [],
   "source": [
    "cat_calories = {}\n",
    "for x in categories:\n",
    "    to_add = {x:data[data.Category == x].Calories.mean()}\n",
    "    cat_calories.update(to_add)"
   ]
  },
  {
   "cell_type": "code",
   "execution_count": 98,
   "metadata": {},
   "outputs": [
    {
     "data": {
      "text/plain": [
       "{'Beef & Pork': 494.0,\n",
       " 'Beverages': 113.70370370370371,\n",
       " 'Breakfast': 526.6666666666666,\n",
       " 'Chicken & Fish': 552.9629629629629,\n",
       " 'Coffee & Tea': 283.89473684210526,\n",
       " 'Desserts': 222.14285714285714,\n",
       " 'Salads': 270.0,\n",
       " 'Smoothies & Shakes': 531.4285714285714,\n",
       " 'Snacks & Sides': 245.76923076923077}"
      ]
     },
     "execution_count": 98,
     "metadata": {},
     "output_type": "execute_result"
    }
   ],
   "source": [
    "cat_calories"
   ]
  },
  {
   "cell_type": "markdown",
   "metadata": {},
   "source": [
    "Lets plot these using a bar plot again"
   ]
  },
  {
   "cell_type": "code",
   "execution_count": 99,
   "metadata": {},
   "outputs": [
    {
     "data": {
      "image/png": "[encoded data removed]",
      "text/plain": [
       "<Figure size 432x288 with 1 Axes>"
      ]
     },
     "metadata": {},
     "output_type": "display_data"
    }
   ],
   "source": [
    "plt.barh(list(cat_calories.keys()), [cat_calories[x] for x in cat_calories.keys()], alpha = 0.7)\n",
    "plt.title('Average Calories in Each McDonalds Menu Category')\n",
    "plt.xlabel('Calories')\n",
    "plt.ylabel('Categories')\n",
    "plt.show()"
   ]
  },
  {
   "cell_type": "markdown",
   "metadata": {},
   "source": [
    "## Hypothesis Testing"
   ]
  },
  {
   "cell_type": "markdown",
   "metadata": {},
   "source": [
    "Hypothesis testing is another vital tool a data scientist needs to have. It's helpful in the EDA process to know how prove or disprove any doubts or questions you may have about the data with a process to back up your claim. <br><br>\n",
    "\n",
    "In the case we were just investigating we used average as our metric to determine the calorie counts of each set of data. We got the following top three results:\n",
    "    1. Chicken & Fish : 552.96\n",
    "    2. Smoothies & Shakes : 531.43\n",
    "    3. Breakfast : 526.67\n",
    "    \n",
    "These values are all pretty close together and since we used average as our metric I want to make sure that there aren't any outlier's influencing the outcome. To do this I can create a hypothesis test and prove it using a simulation. For time sake we will just look at the case of the Breakfast category ($B$) and the Smoothies and Shakes Category ($SS$)\n",
    "\n",
    "$H_{o}:$ ${\\mu}_{B}$ ${\\ge}$ ${\\mu}_{SS}$<br>\n",
    "$H_{a}:$ ${\\mu}_{B}$ $<$ ${\\mu}_{SS}$<br>\n",
    "\n",
    "In hypothesis testing we want to confirm our simulation results by using a significance level ($a$). In most cases $a = 0.05$ so that is what we will use here. This means that if our $H_{o}$ is correct less than 0.05 percent of the time, then we will reject it.<br><br> \n",
    "### Simulation\n",
    " Lets start importing the numpy library. \n"
   ]
  },
  {
   "cell_type": "code",
   "execution_count": 100,
   "metadata": {},
   "outputs": [],
   "source": [
    "import numpy as np"
   ]
  },
  {
   "cell_type": "markdown",
   "metadata": {},
   "source": [
    "Now lets separate out our two categories into different lists."
   ]
  },
  {
   "cell_type": "code",
   "execution_count": 101,
   "metadata": {},
   "outputs": [
    {
     "data": {
      "text/plain": [
       "array([ 300,  250,  370,  450,  400,  430,  460,  520,  410,  470,  430,\n",
       "        480,  510,  570,  460,  520,  410,  470,  540,  460,  400,  420,\n",
       "        550,  500,  620,  570,  670,  740,  800,  640,  690, 1090, 1150,\n",
       "        990, 1050,  350,  520,  300,  150,  460,  290,  260])"
      ]
     },
     "execution_count": 101,
     "metadata": {},
     "output_type": "execute_result"
    }
   ],
   "source": [
    "breakfast = np.array(data[data.Category == 'Breakfast'].Calories)\n",
    "breakfast"
   ]
  },
  {
   "cell_type": "code",
   "execution_count": 102,
   "metadata": {},
   "outputs": [
    {
     "data": {
      "text/plain": [
       "array([220, 260, 340, 210, 250, 330, 210, 260, 340, 530, 660, 820, 550,\n",
       "       690, 850, 560, 700, 850, 660, 820, 650, 930, 430, 510, 690, 340,\n",
       "       810, 410])"
      ]
     },
     "execution_count": 102,
     "metadata": {},
     "output_type": "execute_result"
    }
   ],
   "source": [
    "shakes = np.array(data[data.Category == 'Smoothies & Shakes'].Calories)\n",
    "shakes"
   ]
  },
  {
   "cell_type": "markdown",
   "metadata": {},
   "source": [
    "Now lets create our simulation"
   ]
  },
  {
   "cell_type": "code",
   "execution_count": 104,
   "metadata": {},
   "outputs": [
    {
     "name": "stdout",
     "output_type": "stream",
     "text": [
      "P-Value : 0.469\n"
     ]
    }
   ],
   "source": [
    "supporting_count = 0\n",
    "sims = 1000\n",
    "\n",
    "for _ in range(sims):\n",
    "    \n",
    "    # Takes a random sample from each category\n",
    "    breakfast_sample = np.random.choice(breakfast, size = 10,)\n",
    "    shake_sample = np.random.choice(shakes, size = 10,)\n",
    "    \n",
    "    # Logic to see it supports our null hypothesis\n",
    "    if breakfast_sample.mean() >= shake_sample.mean():\n",
    "        supporting_count += 1\n",
    "\n",
    "print('P-Value : ' + str(supporting_count/sims))"
   ]
  },
  {
   "cell_type": "markdown",
   "metadata": {},
   "source": [
    "**Conclusion:** <br>\n",
    "Since our simulation supports the $H_{o}$ about half the time, we do not reject the null hypothesis and can conclude that the calories of Breakfast items are not less than the Shakes. This of course makses sense because there are both healthy and unhealthy options on the menu at McDonalds on both the breakfast and shake menu."
   ]
  },
  {
   "cell_type": "markdown",
   "metadata": {},
   "source": [
    "## Thanks for coming out to Python 1.\n",
    "We hope to see you all at a future website. Please let us know your feedback about this workshop!\n",
    "<br><br>\n",
    "**Visit us :** www.dsiufl.org"
   ]
  },
  {
   "cell_type": "code",
   "execution_count": null,
   "metadata": {},
   "outputs": [],
   "source": []
  }
 ],
 "metadata": {
  "kernelspec": {
   "display_name": "Python 3",
   "language": "python",
   "name": "python3"
  },
  "language_info": {
   "codemirror_mode": {
    "name": "ipython",
    "version": 3
   },
   "file_extension": ".py",
   "mimetype": "text/x-python",
   "name": "python",
   "nbconvert_exporter": "python",
   "pygments_lexer": "ipython3",
   "version": "3.6.8"
  }
 },
 "nbformat": 4,
 "nbformat_minor": 2
}
