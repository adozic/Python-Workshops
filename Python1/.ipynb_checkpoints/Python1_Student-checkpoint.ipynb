{
 "cells": [
  {
   "cell_type": "markdown",
   "metadata": {},
   "source": [
    "# Python 1 : Data Cleaning and EDA"
   ]
  },
  {
   "cell_type": "markdown",
   "metadata": {},
   "source": [
    "Welcome to Python 1. In this workshop we will cover data manipulation, feature engineering and exploratory analysis. These are very important steps in the data science workflow. <br><br>"
   ]
  },
  {
   "cell_type": "markdown",
   "metadata": {},
   "source": [
    "## Importing our Data\n",
    "We will start by importing our dataset.<br><br>\n",
    "Data : **The McDonalds Menu**<br>\n",
    "The data was taken from : https://www.kaggle.com/mcdonalds/nutrition-facts"
   ]
  },
  {
   "cell_type": "code",
   "execution_count": null,
   "metadata": {},
   "outputs": [],
   "source": []
  },
  {
   "cell_type": "code",
   "execution_count": null,
   "metadata": {},
   "outputs": [],
   "source": []
  },
  {
   "cell_type": "code",
   "execution_count": null,
   "metadata": {
    "scrolled": false
   },
   "outputs": [],
   "source": []
  },
  {
   "cell_type": "markdown",
   "metadata": {},
   "source": [
    "## Data Cleaning\n",
    "In data science, data cleaning is the process of reformatting the data you are given into a format that makes it more organized, easier to understand, and easier to work with. This is an important step because 80% of your time as a data scientist will be spent cleaning data. Knowing the techniques we cover in this workshop will help make the process quicker and less painstaking."
   ]
  },
  {
   "cell_type": "markdown",
   "metadata": {},
   "source": [
    "#### Taking a look at the data features"
   ]
  },
  {
   "cell_type": "code",
   "execution_count": null,
   "metadata": {},
   "outputs": [],
   "source": []
  },
  {
   "cell_type": "markdown",
   "metadata": {},
   "source": [
    "These are our features with **numerical values**"
   ]
  },
  {
   "cell_type": "code",
   "execution_count": null,
   "metadata": {},
   "outputs": [],
   "source": []
  },
  {
   "cell_type": "markdown",
   "metadata": {},
   "source": [
    "These are our features with **catagorical values**. We can convert our lists to sets and use set arithmetic to so this."
   ]
  },
  {
   "cell_type": "code",
   "execution_count": null,
   "metadata": {},
   "outputs": [],
   "source": []
  },
  {
   "cell_type": "code",
   "execution_count": null,
   "metadata": {
    "scrolled": true
   },
   "outputs": [],
   "source": []
  },
  {
   "cell_type": "code",
   "execution_count": null,
   "metadata": {},
   "outputs": [],
   "source": []
  },
  {
   "cell_type": "markdown",
   "metadata": {},
   "source": [
    "First lets check to see if we have uniform values for our category features"
   ]
  },
  {
   "cell_type": "code",
   "execution_count": null,
   "metadata": {},
   "outputs": [],
   "source": []
  },
  {
   "cell_type": "markdown",
   "metadata": {},
   "source": [
    "We can see that the categories are pretty nicely seperated so we dont have to do anything this column"
   ]
  },
  {
   "cell_type": "markdown",
   "metadata": {},
   "source": [
    "One thing that is a little messy and could cause problems in our Serving Size column. These are stores as strings."
   ]
  },
  {
   "cell_type": "code",
   "execution_count": null,
   "metadata": {},
   "outputs": [],
   "source": []
  },
  {
   "cell_type": "code",
   "execution_count": null,
   "metadata": {},
   "outputs": [],
   "source": []
  },
  {
   "cell_type": "markdown",
   "metadata": {},
   "source": [
    "Lets convert these to numerical float values. <br><br>\n",
    "\n",
    "In this case we want to create a function that we can apply to the whole <code>Serving Size</code> column. We can use the pandas apply function to do this. First we need to create the function we want to apply to the column"
   ]
  },
  {
   "cell_type": "markdown",
   "metadata": {},
   "source": [
    "First lets look at the unique values in this column."
   ]
  },
  {
   "cell_type": "code",
   "execution_count": null,
   "metadata": {},
   "outputs": [],
   "source": []
  },
  {
   "cell_type": "markdown",
   "metadata": {},
   "source": [
    "Here we see that there are already gram conversions here. But some of the data points are in fluid ounces without the gram conversion. For the sake of simplicity lets convert the serving size column to grams.<br><br>\n",
    "The conversion from 1 fl oz to gram is as follows:\n",
    "\n",
    "$1$ $fl$ $oz$ $=$ $29.57352956$ $g$<br><br>\n",
    "We can use this to calculate our grams."
   ]
  },
  {
   "cell_type": "code",
   "execution_count": 1,
   "metadata": {},
   "outputs": [],
   "source": [
    "def serving_size_cleaning(data_point):\n",
    "    \n",
    "    # First lets get handle the case of the values with given gram conversions\n",
    "    \n",
    "        \n",
    "    # Next lets handle the case that uses ml. The baseline conversion is 1 ml = 1 g so use this for simplicity\n",
    "    \n",
    "        \n",
    "    # Next lets handle the only remaining case which is the fl oz unit case\n",
    "    \n",
    "    \n",
    "    return grams"
   ]
  },
  {
   "cell_type": "markdown",
   "metadata": {},
   "source": [
    "Lets test to see if our function works"
   ]
  },
  {
   "cell_type": "code",
   "execution_count": null,
   "metadata": {},
   "outputs": [],
   "source": []
  },
  {
   "cell_type": "markdown",
   "metadata": {},
   "source": [
    "Now lets apply it to our <code>Serving Size</code> column"
   ]
  },
  {
   "cell_type": "code",
   "execution_count": null,
   "metadata": {},
   "outputs": [],
   "source": []
  },
  {
   "cell_type": "markdown",
   "metadata": {},
   "source": [
    "Now that we know it works lets save it to our dataset"
   ]
  },
  {
   "cell_type": "code",
   "execution_count": null,
   "metadata": {},
   "outputs": [],
   "source": []
  },
  {
   "cell_type": "code",
   "execution_count": null,
   "metadata": {},
   "outputs": [],
   "source": []
  },
  {
   "cell_type": "markdown",
   "metadata": {},
   "source": [
    "## EDA"
   ]
  },
  {
   "cell_type": "markdown",
   "metadata": {},
   "source": [
    "Now that we have cleaned our data lets take a look at what we have and see if we can find out more information about it. This process is called **Exporatory Data Analysis** or **EDA** <br><br>\n",
    "\n",
    "We can use visual aids by using the <code>matplotlib</code> library."
   ]
  },
  {
   "cell_type": "code",
   "execution_count": null,
   "metadata": {},
   "outputs": [],
   "source": []
  },
  {
   "cell_type": "markdown",
   "metadata": {},
   "source": [
    "To get us started we want to ask some questions about the data. A simple on to start would be:<br>\n",
    "What is the breakdown of the categories of the food items on the McDonald menu?"
   ]
  },
  {
   "cell_type": "code",
   "execution_count": null,
   "metadata": {},
   "outputs": [],
   "source": []
  },
  {
   "cell_type": "markdown",
   "metadata": {},
   "source": [
    "We can turn this into a bar graph for a visual look at this."
   ]
  },
  {
   "cell_type": "code",
   "execution_count": null,
   "metadata": {},
   "outputs": [],
   "source": []
  },
  {
   "cell_type": "markdown",
   "metadata": {},
   "source": [
    "There is a lot of McCafe options on the menu. Lets take a look at these and see why this is the case."
   ]
  },
  {
   "cell_type": "code",
   "execution_count": null,
   "metadata": {},
   "outputs": [],
   "source": []
  },
  {
   "cell_type": "markdown",
   "metadata": {},
   "source": [
    "From this we see that the cause of there being many items in this category is because of the variety of options available."
   ]
  },
  {
   "cell_type": "markdown",
   "metadata": {},
   "source": [
    "Next lets try to see which of these catagories have the most and least calories."
   ]
  },
  {
   "cell_type": "code",
   "execution_count": null,
   "metadata": {},
   "outputs": [],
   "source": [
    "# Getting the different catagories from the menu\n"
   ]
  },
  {
   "cell_type": "markdown",
   "metadata": {},
   "source": [
    "Lets store our data into a dictionary to organize our results."
   ]
  },
  {
   "cell_type": "code",
   "execution_count": null,
   "metadata": {},
   "outputs": [],
   "source": []
  },
  {
   "cell_type": "code",
   "execution_count": null,
   "metadata": {},
   "outputs": [],
   "source": []
  },
  {
   "cell_type": "markdown",
   "metadata": {},
   "source": [
    "Lets plot these using a bar plot again"
   ]
  },
  {
   "cell_type": "code",
   "execution_count": null,
   "metadata": {},
   "outputs": [],
   "source": []
  },
  {
   "cell_type": "markdown",
   "metadata": {},
   "source": [
    "## Hypothesis Testing"
   ]
  },
  {
   "cell_type": "markdown",
   "metadata": {},
   "source": [
    "Hypothesis testing is another vital tool a data scientist needs to have. It's helpful in the EDA process to know how prove or disprove any doubts or questions you may have about the data with a process to back up your claim. <br><br>\n",
    "\n",
    "In the case we were just investigating we used average as our metric to determine the calorie counts of each set of data. We got the following top three results:\n",
    "    1. Chicken & Fish : 552.96\n",
    "    2. Smoothies & Shakes : 531.43\n",
    "    3. Breakfast : 526.67\n",
    "    \n",
    "These values are all pretty close together and since we used average as our metric I want to make sure that there aren't any outlier's influencing the outcome. To do this I can create a hypothesis test and prove it using a simulation. For time sake we will just look at the case of the Breakfast category ($B$) and the Smoothies and Shakes Category ($SS$)\n",
    "\n",
    "$H_{o}:$ ${\\mu}_{B}$ ${\\ge}$ ${\\mu}_{SS}$<br>\n",
    "$H_{a}:$ ${\\mu}_{B}$ $<$ ${\\mu}_{SS}$<br>\n",
    "\n",
    "In hypothesis testing we want to confirm our simulation results by using a significance level ($a$). In most cases $a = 0.05$ so that is what we will use here. This means that if our $H_{o}$ is correct less than 0.05 percent of the time, then we will reject it.<br><br> \n",
    "### Simulation\n",
    " Lets start importing the numpy library. \n"
   ]
  },
  {
   "cell_type": "code",
   "execution_count": null,
   "metadata": {},
   "outputs": [],
   "source": []
  },
  {
   "cell_type": "markdown",
   "metadata": {},
   "source": [
    "Now lets separate out our two categories into different lists."
   ]
  },
  {
   "cell_type": "code",
   "execution_count": null,
   "metadata": {},
   "outputs": [],
   "source": []
  },
  {
   "cell_type": "code",
   "execution_count": null,
   "metadata": {},
   "outputs": [],
   "source": []
  },
  {
   "cell_type": "markdown",
   "metadata": {},
   "source": [
    "Now lets create our simulation"
   ]
  },
  {
   "cell_type": "code",
   "execution_count": null,
   "metadata": {},
   "outputs": [],
   "source": [
    "supporting_count = 0\n",
    "sims = 1000\n",
    "\n",
    "for _ in range(sims):\n",
    "    \n",
    "    # enter sim code here\n",
    "        \n",
    "print('P-Value: ' + str(supporting_count/sims))"
   ]
  },
  {
   "cell_type": "markdown",
   "metadata": {},
   "source": [
    "<details>\n",
    "<summary>So what is our <b>conclusion</b>? </summary><br>\n",
    "Since our simulation supports the $H_{o}$ about half the time, we do not reject the null hypothesis and can conclude that the calories of Breakfast items are not less than the Shakes. This of course makses sense because there are both healthy and unhealthy options on the menu at McDonalds on both the breakfast and shake menu.\n",
    "</details>"
   ]
  },
  {
   "cell_type": "markdown",
   "metadata": {},
   "source": [
    "## Thanks for coming out to Python 1.\n",
    "We hope to see you all at a future website. Please let us know your feedback about this workshop!\n",
    "<br><br>\n",
    "**Visit us :** www.dsiufl.org"
   ]
  },
  {
   "cell_type": "code",
   "execution_count": null,
   "metadata": {},
   "outputs": [],
   "source": []
  }
 ],
 "metadata": {
  "kernelspec": {
   "display_name": "Python 3",
   "language": "python",
   "name": "python3"
  },
  "language_info": {
   "codemirror_mode": {
    "name": "ipython",
    "version": 3
   },
   "file_extension": ".py",
   "mimetype": "text/x-python",
   "name": "python",
   "nbconvert_exporter": "python",
   "pygments_lexer": "ipython3",
   "version": "3.6.8"
  }
 },
 "nbformat": 4,
 "nbformat_minor": 2
}
